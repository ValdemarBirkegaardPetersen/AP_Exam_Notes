{
 "cells": [
  {
   "cell_type": "markdown",
   "metadata": {
    "cell_id": "00000-ad40e180-507d-486a-805f-f52ef668a012",
    "deepnote_cell_type": "markdown"
   },
   "source": [
    "# 1. Wave Equations"
   ]
  },
  {
   "cell_type": "markdown",
   "metadata": {
    "cell_id": "00001-bb6fcc54-6205-4dce-9bb5-407c0f7c3a82",
    "deepnote_cell_type": "markdown"
   },
   "source": [
    "## 1.1 Wave Equation for a string\n",
    "\n",
    "The one-dimensional wave equation is a second order partial differential equation, an occur everywhere in the world (sound, water waves, mechanic waves)\n",
    "The wave equation in one dimension can be written as: \n",
    "\n",
    "![title](https://wikimedia.org/api/rest_v1/media/math/render/svg/5b0e6dbd1c6ae8ebbe0680b849687981bfb22c3a)\n",
    "\n",
    "Imagine you have an ideal string of length L and would like to find an equation that describes the oscillation of the string. Assuming the string is fixed at its ends and starts its motion in a known position f(x) the simplest assumption one can make is that the acceleration of each piece of the string is somewhat proportional to the curvature of the string as such:\n",
    "\n",
    "![Drag Racing](https://deepnote.com/collab/1/project/7795dd5d-bbf3-4739-b229-8489999d5d0b/download-file?path=%2FFigures%2Fimage-20210611-100024.png&mtime=2021-06-11T08%3A00%3A24.000Z)\n",
    "We can express the considerations above in the following way:\n",
    "\n",
    "![title](https://deepnote.com/collab/1/project/7795dd5d-bbf3-4739-b229-8489999d5d0b/download-file?path=%2FFigures%2Fimage-20210611-095812.png&mtime=2021-06-11T07%3A58%3A12.000Z)\n",
    "\n",
    "The equation above is a partial differential equation (PDE) called the wave equation and can be used to model different phenomena such as vibrating strings and propagating waves.The constant term C has dimensions of m/s and can be interpreted as the wave speed.\n",
    "It turns out that the problem above has the following general solution\n",
    "\n",
    "![title](https://deepnote.com/collab/1/project/7795dd5d-bbf3-4739-b229-8489999d5d0b/download-file?path=%2FFigures%2Fimage-20210611-095854.png&mtime=2021-06-11T07%3A58%3A53.000Z)\n",
    "\n",
    "The thing that strikes me about this equation is how powerful the solution is. To think about it, any function that has the argument x-ct or x+ct or a combination of both is a solution to the wave equation. This means that we can model a lot of different waves!  Furthermore, as you could probably spot, the general solution is a combination of a wave travelling to the left and one travelling to the right.\n",
    "Assuming let’s try the following solution\n",
    "\n",
    "![title](https://deepnote.com/collab/1/project/7795dd5d-bbf3-4739-b229-8489999d5d0b/download-file?path=%2FFigures%2Fimage-20210611-100024.png&mtime=2021-06-11T08%3A00%3A24.000Z)\n",
    "\n",
    "By implementing the equation in Python for a string of length 2pi and of speed 1 m/s we obtain the following animation:\n",
    "\n",
    "Check the: \"WaveEquationPython.py\" file. \n",
    "\n",
    "Source: http://firsttimeprogrammer.blogspot.com/2015/07/the-wave-equation-2d-and-3d.html\n"
   ]
  },
  {
   "cell_type": "markdown",
   "metadata": {
    "cell_id": "00002-5cea86e6-d7b0-4328-bf20-fcff91e08ef9",
    "deepnote_cell_type": "text-cell-h3",
    "tags": []
   },
   "source": [
    "### General Solution"
   ]
  },
  {
   "cell_type": "markdown",
   "metadata": {
    "cell_id": "00003-87f2be0a-8f60-44d1-926e-f77c13eea814",
    "deepnote_cell_type": "markdown",
    "tags": []
   },
   "source": [
    "1. The general solution to the 1D wave equation is\n",
    "$$\n",
    "    y(x,t) = f(t-x/c)+g(t+x/c-L/c)\n",
    "$$\n",
    "where $f(t)$ and $g(t)$ are two arbitrary function."
   ]
  },
  {
   "cell_type": "markdown",
   "metadata": {
    "cell_id": "00002-4fd438de-6743-41ee-8099-d3f6f6a703e5",
    "deepnote_cell_type": "text-cell-h3",
    "tags": []
   },
   "source": [
    "### 1.2 What to the different variables mean? "
   ]
  },
  {
   "cell_type": "markdown",
   "metadata": {
    "cell_id": "00003-3e72aad8-beb4-47ad-a33a-75768533997a",
    "deepnote_cell_type": "markdown",
    "tags": []
   },
   "source": [
    "For small vibrations, the vibrations on a string approximately satisfy the 1D-wave equations given by\n",
    "$$\n",
    "    \\frac{\\partial^2 y(x,t)}{\\partial x^2} = \\frac{1}{c^2} \\frac{\\partial^2 y(x,t)}{\\partial t^2}\\ .\n",
    "$$\n",
    "\n",
    "t = Time\n",
    "\n",
    "c = Wave speed/propgagation speed (real non-negative coefficent) can be calculated by: $c=\\sqrt{T/\\rho}$ where $T$ is the string tension measured in N and $\\rho$ is the linear density measured in kg/m.\n",
    "\n",
    "x = Position on the string\n",
    "\n",
    "L = Length of string"
   ]
  },
  {
   "cell_type": "markdown",
   "metadata": {
    "cell_id": "00004-8fbe7fed-6d16-4d6e-87c8-2a37f1111945",
    "deepnote_cell_type": "markdown",
    "tags": []
   },
   "source": [
    "### Initial and Boundary conditions\n",
    "So far, no restrictions are put on the functions $f(t)$ and $g(t)$. To say more about these, we need to specify\n",
    "- **boundary conditions**: describe what is happening at the boundaries as a function of time. That is, the boundary conditions are $y(0,t)$ and $y(L,t)$ for a vibrating string of length $L$.\n",
    "- **initial conditions**: describes where every point on the string is at time $t=0$. That is, the initial conditions are given as $y(x,0)$."
   ]
  },
  {
   "cell_type": "markdown",
   "metadata": {
    "cell_id": "00005-dcdaa9d2-3d55-49fc-8b8b-1dd579e5bd18",
    "deepnote_cell_type": "markdown",
    "tags": []
   },
   "source": [
    "#### Example: Initial and boundary condition for a plucked guitar string.\n",
    "In the figure below, an example of the initial and boundary conditions are shown for a plucked guitar string of length $L$. These conditions are\n",
    "- **boundary conditions**: both ends of the guitar string are fixed to zero. Thus, the boundary conditions are\n",
    "$$\n",
    "    y(0,t) = y(L,t) = 0\\ .\n",
    "$$\n",
    "- **initial conditions**: the string is deflected by $\\delta$ at position $P$ at time 0 and forms a triangle together with the interval from $0$ to $L$ on the $x$-axis.\n",
    "<center>\n",
    "<img src=\"https://github.com/SMC-AAU-CPH/med4-ap-jupyter/blob/main/lecture2_Wave_Equation/figures/initialConditionsString.png?raw=1\" alt=\"Initial conditions for a string\" width=\"70%\" />\n",
    "</center>"
   ]
  },
  {
   "cell_type": "markdown",
   "metadata": {
    "cell_id": "00008-9a0c2f92-f6ca-4218-82d0-d98b606df9a9",
    "deepnote_cell_type": "markdown",
    "tags": []
   },
   "source": [
    "### Summary\n",
    "1. The general solution to the 1D wave equation is\n",
    "$$\n",
    "    y(x,t) = f(t-x/c)+g(t+x/c-L/c)\n",
    "$$\n",
    "where $f(t)$ and $g(t)$ are two arbitrary function.\n",
    "2. We can think of this general solution to the wave equation as the sum of the solutions to the following two simple cases:\n",
    " 1. we excite an infinitely long string at $x=0$ with a bump $f(t)$ travelling to the **right**\n",
    " 2. we excite an infinitely long string at $x=L$ with a bump $g(t)$ travelling to the **left**\n",
    "3. An initial condition describe what the position of the string is at all $x$ for $t=0$. That is, the initial conditions are described by $y(x,0)$.\n",
    "4. The boundary conditions describes what is happening at the boundaries of the string as a function of time. That is, the boundary conditions are describes by $y(0,t)$ and $y(L,t)$."
   ]
  },
  {
   "cell_type": "markdown",
   "metadata": {
    "cell_id": "00008-5d994d66-f640-431f-8359-29217470cbe9",
    "deepnote_cell_type": "markdown",
    "tags": []
   },
   "source": [
    "### Assignment\n",
    "Suppose that we fix a string at $x=L$ to 0.\n",
    "- How do we write this as a boundary condition?\n",
    "\n",
    "*The boundary conditions can be written as $y(L,t)$ and $y(0,t)$*\n",
    "\n",
    "\n",
    "Recall that the general solution to the 1D wave equation is\n",
    "$$\n",
    "    y(x,t) = f(t-x/c)+g(t+x/c-L/c)\\ .\n",
    "$$\n",
    "- If you have to satisfy the boundary condition you derived above, how can $g(t)$ then be expressed in terms of $f(t)$?\n",
    "\n",
    "*The pulse is moving from g(t) to f(t) to the left*\n",
    "\n",
    "- Based on the two simple cases with infinite strings, can you draw how the boundary condition is satisfied? "
   ]
  },
  {
   "cell_type": "markdown",
   "metadata": {
    "created_in_deepnote_cell": true,
    "deepnote_cell_type": "markdown",
    "tags": []
   },
   "source": [
    "<a style='text-decoration:none;line-height:16px;display:flex;color:#5B5B62;padding:10px;justify-content:end;' href='https://deepnote.com?utm_source=created-in-deepnote-cell&projectId=7795dd5d-bbf3-4739-b229-8489999d5d0b' target=\"_blank\">\n",
    "<img alt='Created in deepnote.com' style='display:inline;max-height:16px;margin:0px;margin-right:7.5px;' src='data:image/svg+xml;base64,PD94bWwgdmVyc2lvbj0iMS4wIiBlbmNvZGluZz0iVVRGLTgiPz4KPHN2ZyB3aWR0aD0iODBweCIgaGVpZ2h0PSI4MHB4IiB2aWV3Qm94PSIwIDAgODAgODAiIHZlcnNpb249IjEuMSIgeG1sbnM9Imh0dHA6Ly93d3cudzMub3JnLzIwMDAvc3ZnIiB4bWxuczp4bGluaz0iaHR0cDovL3d3dy53My5vcmcvMTk5OS94bGluayI+CiAgICA8IS0tIEdlbmVyYXRvcjogU2tldGNoIDU0LjEgKDc2NDkwKSAtIGh0dHBzOi8vc2tldGNoYXBwLmNvbSAtLT4KICAgIDx0aXRsZT5Hcm91cCAzPC90aXRsZT4KICAgIDxkZXNjPkNyZWF0ZWQgd2l0aCBTa2V0Y2guPC9kZXNjPgogICAgPGcgaWQ9IkxhbmRpbmciIHN0cm9rZT0ibm9uZSIgc3Ryb2tlLXdpZHRoPSIxIiBmaWxsPSJub25lIiBmaWxsLXJ1bGU9ImV2ZW5vZGQiPgogICAgICAgIDxnIGlkPSJBcnRib2FyZCIgdHJhbnNmb3JtPSJ0cmFuc2xhdGUoLTEyMzUuMDAwMDAwLCAtNzkuMDAwMDAwKSI+CiAgICAgICAgICAgIDxnIGlkPSJHcm91cC0zIiB0cmFuc2Zvcm09InRyYW5zbGF0ZSgxMjM1LjAwMDAwMCwgNzkuMDAwMDAwKSI+CiAgICAgICAgICAgICAgICA8cG9seWdvbiBpZD0iUGF0aC0yMCIgZmlsbD0iIzAyNjVCNCIgcG9pbnRzPSIyLjM3NjIzNzYyIDgwIDM4LjA0NzY2NjcgODAgNTcuODIxNzgyMiA3My44MDU3NTkyIDU3LjgyMTc4MjIgMzIuNzU5MjczOSAzOS4xNDAyMjc4IDMxLjY4MzE2ODMiPjwvcG9seWdvbj4KICAgICAgICAgICAgICAgIDxwYXRoIGQ9Ik0zNS4wMDc3MTgsODAgQzQyLjkwNjIwMDcsNzYuNDU0OTM1OCA0Ny41NjQ5MTY3LDcxLjU0MjI2NzEgNDguOTgzODY2LDY1LjI2MTk5MzkgQzUxLjExMjI4OTksNTUuODQxNTg0MiA0MS42NzcxNzk1LDQ5LjIxMjIyODQgMjUuNjIzOTg0Niw0OS4yMTIyMjg0IEMyNS40ODQ5Mjg5LDQ5LjEyNjg0NDggMjkuODI2MTI5Niw0My4yODM4MjQ4IDM4LjY0NzU4NjksMzEuNjgzMTY4MyBMNzIuODcxMjg3MSwzMi41NTQ0MjUgTDY1LjI4MDk3Myw2Ny42NzYzNDIxIEw1MS4xMTIyODk5LDc3LjM3NjE0NCBMMzUuMDA3NzE4LDgwIFoiIGlkPSJQYXRoLTIyIiBmaWxsPSIjMDAyODY4Ij48L3BhdGg+CiAgICAgICAgICAgICAgICA8cGF0aCBkPSJNMCwzNy43MzA0NDA1IEwyNy4xMTQ1MzcsMC4yNTcxMTE0MzYgQzYyLjM3MTUxMjMsLTEuOTkwNzE3MDEgODAsMTAuNTAwMzkyNyA4MCwzNy43MzA0NDA1IEM4MCw2NC45NjA0ODgyIDY0Ljc3NjUwMzgsNzkuMDUwMzQxNCAzNC4zMjk1MTEzLDgwIEM0Ny4wNTUzNDg5LDc3LjU2NzA4MDggNTMuNDE4MjY3Nyw3MC4zMTM2MTAzIDUzLjQxODI2NzcsNTguMjM5NTg4NSBDNTMuNDE4MjY3Nyw0MC4xMjg1NTU3IDM2LjMwMzk1NDQsMzcuNzMwNDQwNSAyNS4yMjc0MTcsMzcuNzMwNDQwNSBDMTcuODQzMDU4NiwzNy43MzA0NDA1IDkuNDMzOTE5NjYsMzcuNzMwNDQwNSAwLDM3LjczMDQ0MDUgWiIgaWQ9IlBhdGgtMTkiIGZpbGw9IiMzNzkzRUYiPjwvcGF0aD4KICAgICAgICAgICAgPC9nPgogICAgICAgIDwvZz4KICAgIDwvZz4KPC9zdmc+' > </img>\n",
    "Created in <span style='font-weight:600;margin-left:4px;'>Deepnote</span></a>"
   ]
  }
 ],
 "metadata": {
  "deepnote": {},
  "deepnote_execution_queue": [],
  "deepnote_notebook_id": "1bd6f8e6-5d0d-4716-9acd-df418926f666",
  "kernelspec": {
   "display_name": "Python 3.9.5 64-bit (windows store)",
   "language": "python",
   "name": "python395jvsc74a57bd07c799274a299c915da9dc49d2429efd8732670497811da2c4238d795e35f4b1a"
  },
  "language_info": {
   "codemirror_mode": {
    "name": "ipython",
    "version": 3
   },
   "file_extension": ".py",
   "mimetype": "text/x-python",
   "name": "python",
   "nbconvert_exporter": "python",
   "pygments_lexer": "ipython3",
   "version": "3.9.6"
  },
  "metadata": {
   "interpreter": {
    "hash": "7c799274a299c915da9dc49d2429efd8732670497811da2c4238d795e35f4b1a"
   }
  }
 },
 "nbformat": 4,
 "nbformat_minor": 4
}
