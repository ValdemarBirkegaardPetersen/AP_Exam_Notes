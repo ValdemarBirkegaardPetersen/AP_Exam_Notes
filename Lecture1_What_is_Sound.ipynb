{
  "nbformat": 4,
  "nbformat_minor": 0,
  "metadata": {
    "colab": {
      "name": "Untitled0.ipynb",
      "provenance": [],
      "collapsed_sections": [],
      "authorship_tag": "ABX9TyNFOBdCD1qA8qVJXJjPeFeD",
      "include_colab_link": true
    },
    "kernelspec": {
      "name": "python3",
      "display_name": "Python 3"
    },
    "language_info": {
      "name": "python"
    }
  },
  "cells": [
    {
      "cell_type": "markdown",
      "metadata": {
        "id": "view-in-github",
        "colab_type": "text"
      },
      "source": [
        "<a href=\"https://colab.research.google.com/github/ValdemarBirkegaardPetersen/AP_Exam_Notes/blob/main/Lecture1_What_is_Sound.ipynb\" target=\"_parent\"><img src=\"https://colab.research.google.com/assets/colab-badge.svg\" alt=\"Open In Colab\"/></a>"
      ]
    },
    {
      "cell_type": "code",
      "metadata": {
        "id": "5NwEPjm0jiJ9",
        "colab": {
          "base_uri": "https://localhost:8080/"
        },
        "outputId": "90b65bdf-00cb-4cda-9836-7085cbebc587"
      },
      "source": [
        "#AP \n",
        "\n",
        "import numpy as np \n",
        "import math\n",
        "\n",
        "print(\"hello\")"
      ],
      "execution_count": null,
      "outputs": [
        {
          "output_type": "stream",
          "text": [
            "hello\n"
          ],
          "name": "stdout"
        }
      ]
    }
  ]
}