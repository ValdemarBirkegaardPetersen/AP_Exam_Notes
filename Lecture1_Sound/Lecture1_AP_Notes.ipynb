{
 "cells": [
  {
   "cell_type": "code",
   "execution_count": 10,
   "metadata": {
    "_cell_guid": "b1076dfc-b9ad-4769-8c92-a6c4dae69d19",
    "_uuid": "8f2839f25d086af736a60e9eeb907d3b93b6e0e5",
    "cell_id": "00000-db64771f-c03b-4f90-9f83-1741dee24ce5",
    "deepnote_cell_type": "code"
   },
   "outputs": [],
   "source": [
    "import numpy as np \n",
    "import matplotlib.pyplot as plt \n",
    "import pandas as pd\n",
    "import math\n",
    "%matplotlib inline \n"
   ]
  },
  {
   "cell_type": "markdown",
   "metadata": {
    "cell_id": "00001-0271c7a5-84c8-4ccb-b1f3-a96715e1db2d",
    "deepnote_cell_type": "markdown"
   },
   "source": [
    "# Sinusoids\n",
    "## Real Sinusoid\n",
    "A sinusoid (or a sine wave) is given by\n",
    "# x(t)=Acos(Ωt+Φ) \n",
    "* where\n",
    "\n",
    "* A≥0  is the amplitude\n",
    "* Ω  is the frequency measured in radians pr. second (SI symbol rad/s). Is related to the frequency  f  measured in cycles pr. second (SI symbol Hz) via  Ω=2πf .\n",
    "* t  is the time measured in seconds (SI symbol s)\n",
    "* Φ  is the initial phase measured in radians (SI symbol rad)"
   ]
  },
  {
   "cell_type": "code",
   "execution_count": 7,
   "metadata": {
    "cell_id": "00002-326bcec1-28c7-4727-aa64-026392551fdb",
    "deepnote_cell_type": "code"
   },
   "outputs": [
    {
     "output_type": "execute_result",
     "data": {
      "text/plain": [
       "[<matplotlib.lines.Line2D at 0x27ad8d6da30>]"
      ]
     },
     "metadata": {},
     "execution_count": 7
    },
    {
     "output_type": "display_data",
     "data": {
      "text/plain": "<Figure size 432x288 with 1 Axes>",
      "image/svg+xml": "<?xml version=\"1.0\" encoding=\"utf-8\" standalone=\"no\"?>\r\n<!DOCTYPE svg PUBLIC \"-//W3C//DTD SVG 1.1//EN\"\r\n  \"http://www.w3.org/Graphics/SVG/1.1/DTD/svg11.dtd\">\r\n<svg height=\"248.518125pt\" version=\"1.1\" viewBox=\"0 0 386.845313 248.518125\" width=\"386.845313pt\" xmlns=\"http://www.w3.org/2000/svg\" xmlns:xlink=\"http://www.w3.org/1999/xlink\">\r\n <metadata>\r\n  <rdf:RDF xmlns:cc=\"http://creativecommons.org/ns#\" xmlns:dc=\"http://purl.org/dc/elements/1.1/\" xmlns:rdf=\"http://www.w3.org/1999/02/22-rdf-syntax-ns#\">\r\n   <cc:Work>\r\n    <dc:type rdf:resource=\"http://purl.org/dc/dcmitype/StillImage\"/>\r\n    <dc:date>2021-07-12T11:03:45.928644</dc:date>\r\n    <dc:format>image/svg+xml</dc:format>\r\n    <dc:creator>\r\n     <cc:Agent>\r\n      <dc:title>Matplotlib v3.4.2, https://matplotlib.org/</dc:title>\r\n     </cc:Agent>\r\n    </dc:creator>\r\n   </cc:Work>\r\n  </rdf:RDF>\r\n </metadata>\r\n <defs>\r\n  <style type=\"text/css\">*{stroke-linecap:butt;stroke-linejoin:round;}</style>\r\n </defs>\r\n <g id=\"figure_1\">\r\n  <g id=\"patch_1\">\r\n   <path d=\"M 0 248.518125 \r\nL 386.845313 248.518125 \r\nL 386.845313 0 \r\nL 0 0 \r\nz\r\n\" style=\"fill:none;\"/>\r\n  </g>\r\n  <g id=\"axes_1\">\r\n   <g id=\"patch_2\">\r\n    <path d=\"M 44.845313 224.64 \r\nL 379.645313 224.64 \r\nL 379.645313 7.2 \r\nL 44.845313 7.2 \r\nz\r\n\" style=\"fill:#ffffff;\"/>\r\n   </g>\r\n   <g id=\"matplotlib.axis_1\">\r\n    <g id=\"xtick_1\">\r\n     <g id=\"line2d_1\">\r\n      <defs>\r\n       <path d=\"M 0 0 \r\nL 0 3.5 \r\n\" id=\"maa34aea5bc\" style=\"stroke:#000000;stroke-width:0.8;\"/>\r\n      </defs>\r\n      <g>\r\n       <use style=\"stroke:#000000;stroke-width:0.8;\" x=\"60.063494\" xlink:href=\"#maa34aea5bc\" y=\"224.64\"/>\r\n      </g>\r\n     </g>\r\n     <g id=\"text_1\">\r\n      <!-- 0.00 -->\r\n      <g transform=\"translate(48.930682 239.238437)scale(0.1 -0.1)\">\r\n       <defs>\r\n        <path d=\"M 2034 4250 \r\nQ 1547 4250 1301 3770 \r\nQ 1056 3291 1056 2328 \r\nQ 1056 1369 1301 889 \r\nQ 1547 409 2034 409 \r\nQ 2525 409 2770 889 \r\nQ 3016 1369 3016 2328 \r\nQ 3016 3291 2770 3770 \r\nQ 2525 4250 2034 4250 \r\nz\r\nM 2034 4750 \r\nQ 2819 4750 3233 4129 \r\nQ 3647 3509 3647 2328 \r\nQ 3647 1150 3233 529 \r\nQ 2819 -91 2034 -91 \r\nQ 1250 -91 836 529 \r\nQ 422 1150 422 2328 \r\nQ 422 3509 836 4129 \r\nQ 1250 4750 2034 4750 \r\nz\r\n\" id=\"DejaVuSans-30\" transform=\"scale(0.015625)\"/>\r\n        <path d=\"M 684 794 \r\nL 1344 794 \r\nL 1344 0 \r\nL 684 0 \r\nL 684 794 \r\nz\r\n\" id=\"DejaVuSans-2e\" transform=\"scale(0.015625)\"/>\r\n       </defs>\r\n       <use xlink:href=\"#DejaVuSans-30\"/>\r\n       <use x=\"63.623047\" xlink:href=\"#DejaVuSans-2e\"/>\r\n       <use x=\"95.410156\" xlink:href=\"#DejaVuSans-30\"/>\r\n       <use x=\"159.033203\" xlink:href=\"#DejaVuSans-30\"/>\r\n      </g>\r\n     </g>\r\n    </g>\r\n    <g id=\"xtick_2\">\r\n     <g id=\"line2d_2\">\r\n      <g>\r\n       <use style=\"stroke:#000000;stroke-width:0.8;\" x=\"127.209249\" xlink:href=\"#maa34aea5bc\" y=\"224.64\"/>\r\n      </g>\r\n     </g>\r\n     <g id=\"text_2\">\r\n      <!-- 0.01 -->\r\n      <g transform=\"translate(116.076437 239.238437)scale(0.1 -0.1)\">\r\n       <defs>\r\n        <path d=\"M 794 531 \r\nL 1825 531 \r\nL 1825 4091 \r\nL 703 3866 \r\nL 703 4441 \r\nL 1819 4666 \r\nL 2450 4666 \r\nL 2450 531 \r\nL 3481 531 \r\nL 3481 0 \r\nL 794 0 \r\nL 794 531 \r\nz\r\n\" id=\"DejaVuSans-31\" transform=\"scale(0.015625)\"/>\r\n       </defs>\r\n       <use xlink:href=\"#DejaVuSans-30\"/>\r\n       <use x=\"63.623047\" xlink:href=\"#DejaVuSans-2e\"/>\r\n       <use x=\"95.410156\" xlink:href=\"#DejaVuSans-30\"/>\r\n       <use x=\"159.033203\" xlink:href=\"#DejaVuSans-31\"/>\r\n      </g>\r\n     </g>\r\n    </g>\r\n    <g id=\"xtick_3\">\r\n     <g id=\"line2d_3\">\r\n      <g>\r\n       <use style=\"stroke:#000000;stroke-width:0.8;\" x=\"194.355004\" xlink:href=\"#maa34aea5bc\" y=\"224.64\"/>\r\n      </g>\r\n     </g>\r\n     <g id=\"text_3\">\r\n      <!-- 0.02 -->\r\n      <g transform=\"translate(183.222191 239.238437)scale(0.1 -0.1)\">\r\n       <defs>\r\n        <path d=\"M 1228 531 \r\nL 3431 531 \r\nL 3431 0 \r\nL 469 0 \r\nL 469 531 \r\nQ 828 903 1448 1529 \r\nQ 2069 2156 2228 2338 \r\nQ 2531 2678 2651 2914 \r\nQ 2772 3150 2772 3378 \r\nQ 2772 3750 2511 3984 \r\nQ 2250 4219 1831 4219 \r\nQ 1534 4219 1204 4116 \r\nQ 875 4013 500 3803 \r\nL 500 4441 \r\nQ 881 4594 1212 4672 \r\nQ 1544 4750 1819 4750 \r\nQ 2544 4750 2975 4387 \r\nQ 3406 4025 3406 3419 \r\nQ 3406 3131 3298 2873 \r\nQ 3191 2616 2906 2266 \r\nQ 2828 2175 2409 1742 \r\nQ 1991 1309 1228 531 \r\nz\r\n\" id=\"DejaVuSans-32\" transform=\"scale(0.015625)\"/>\r\n       </defs>\r\n       <use xlink:href=\"#DejaVuSans-30\"/>\r\n       <use x=\"63.623047\" xlink:href=\"#DejaVuSans-2e\"/>\r\n       <use x=\"95.410156\" xlink:href=\"#DejaVuSans-30\"/>\r\n       <use x=\"159.033203\" xlink:href=\"#DejaVuSans-32\"/>\r\n      </g>\r\n     </g>\r\n    </g>\r\n    <g id=\"xtick_4\">\r\n     <g id=\"line2d_4\">\r\n      <g>\r\n       <use style=\"stroke:#000000;stroke-width:0.8;\" x=\"261.500758\" xlink:href=\"#maa34aea5bc\" y=\"224.64\"/>\r\n      </g>\r\n     </g>\r\n     <g id=\"text_4\">\r\n      <!-- 0.03 -->\r\n      <g transform=\"translate(250.367946 239.238437)scale(0.1 -0.1)\">\r\n       <defs>\r\n        <path d=\"M 2597 2516 \r\nQ 3050 2419 3304 2112 \r\nQ 3559 1806 3559 1356 \r\nQ 3559 666 3084 287 \r\nQ 2609 -91 1734 -91 \r\nQ 1441 -91 1130 -33 \r\nQ 819 25 488 141 \r\nL 488 750 \r\nQ 750 597 1062 519 \r\nQ 1375 441 1716 441 \r\nQ 2309 441 2620 675 \r\nQ 2931 909 2931 1356 \r\nQ 2931 1769 2642 2001 \r\nQ 2353 2234 1838 2234 \r\nL 1294 2234 \r\nL 1294 2753 \r\nL 1863 2753 \r\nQ 2328 2753 2575 2939 \r\nQ 2822 3125 2822 3475 \r\nQ 2822 3834 2567 4026 \r\nQ 2313 4219 1838 4219 \r\nQ 1578 4219 1281 4162 \r\nQ 984 4106 628 3988 \r\nL 628 4550 \r\nQ 988 4650 1302 4700 \r\nQ 1616 4750 1894 4750 \r\nQ 2613 4750 3031 4423 \r\nQ 3450 4097 3450 3541 \r\nQ 3450 3153 3228 2886 \r\nQ 3006 2619 2597 2516 \r\nz\r\n\" id=\"DejaVuSans-33\" transform=\"scale(0.015625)\"/>\r\n       </defs>\r\n       <use xlink:href=\"#DejaVuSans-30\"/>\r\n       <use x=\"63.623047\" xlink:href=\"#DejaVuSans-2e\"/>\r\n       <use x=\"95.410156\" xlink:href=\"#DejaVuSans-30\"/>\r\n       <use x=\"159.033203\" xlink:href=\"#DejaVuSans-33\"/>\r\n      </g>\r\n     </g>\r\n    </g>\r\n    <g id=\"xtick_5\">\r\n     <g id=\"line2d_5\">\r\n      <g>\r\n       <use style=\"stroke:#000000;stroke-width:0.8;\" x=\"328.646513\" xlink:href=\"#maa34aea5bc\" y=\"224.64\"/>\r\n      </g>\r\n     </g>\r\n     <g id=\"text_5\">\r\n      <!-- 0.04 -->\r\n      <g transform=\"translate(317.513701 239.238437)scale(0.1 -0.1)\">\r\n       <defs>\r\n        <path d=\"M 2419 4116 \r\nL 825 1625 \r\nL 2419 1625 \r\nL 2419 4116 \r\nz\r\nM 2253 4666 \r\nL 3047 4666 \r\nL 3047 1625 \r\nL 3713 1625 \r\nL 3713 1100 \r\nL 3047 1100 \r\nL 3047 0 \r\nL 2419 0 \r\nL 2419 1100 \r\nL 313 1100 \r\nL 313 1709 \r\nL 2253 4666 \r\nz\r\n\" id=\"DejaVuSans-34\" transform=\"scale(0.015625)\"/>\r\n       </defs>\r\n       <use xlink:href=\"#DejaVuSans-30\"/>\r\n       <use x=\"63.623047\" xlink:href=\"#DejaVuSans-2e\"/>\r\n       <use x=\"95.410156\" xlink:href=\"#DejaVuSans-30\"/>\r\n       <use x=\"159.033203\" xlink:href=\"#DejaVuSans-34\"/>\r\n      </g>\r\n     </g>\r\n    </g>\r\n   </g>\r\n   <g id=\"matplotlib.axis_2\">\r\n    <g id=\"ytick_1\">\r\n     <g id=\"line2d_6\">\r\n      <defs>\r\n       <path d=\"M 0 0 \r\nL -3.5 0 \r\n\" id=\"m9fe5473900\" style=\"stroke:#000000;stroke-width:0.8;\"/>\r\n      </defs>\r\n      <g>\r\n       <use style=\"stroke:#000000;stroke-width:0.8;\" x=\"44.845313\" xlink:href=\"#m9fe5473900\" y=\"214.756991\"/>\r\n      </g>\r\n     </g>\r\n     <g id=\"text_6\">\r\n      <!-- −1.00 -->\r\n      <g transform=\"translate(7.2 218.556209)scale(0.1 -0.1)\">\r\n       <defs>\r\n        <path d=\"M 678 2272 \r\nL 4684 2272 \r\nL 4684 1741 \r\nL 678 1741 \r\nL 678 2272 \r\nz\r\n\" id=\"DejaVuSans-2212\" transform=\"scale(0.015625)\"/>\r\n       </defs>\r\n       <use xlink:href=\"#DejaVuSans-2212\"/>\r\n       <use x=\"83.789062\" xlink:href=\"#DejaVuSans-31\"/>\r\n       <use x=\"147.412109\" xlink:href=\"#DejaVuSans-2e\"/>\r\n       <use x=\"179.199219\" xlink:href=\"#DejaVuSans-30\"/>\r\n       <use x=\"242.822266\" xlink:href=\"#DejaVuSans-30\"/>\r\n      </g>\r\n     </g>\r\n    </g>\r\n    <g id=\"ytick_2\">\r\n     <g id=\"line2d_7\">\r\n      <g>\r\n       <use style=\"stroke:#000000;stroke-width:0.8;\" x=\"44.845313\" xlink:href=\"#m9fe5473900\" y=\"190.047743\"/>\r\n      </g>\r\n     </g>\r\n     <g id=\"text_7\">\r\n      <!-- −0.75 -->\r\n      <g transform=\"translate(7.2 193.846962)scale(0.1 -0.1)\">\r\n       <defs>\r\n        <path d=\"M 525 4666 \r\nL 3525 4666 \r\nL 3525 4397 \r\nL 1831 0 \r\nL 1172 0 \r\nL 2766 4134 \r\nL 525 4134 \r\nL 525 4666 \r\nz\r\n\" id=\"DejaVuSans-37\" transform=\"scale(0.015625)\"/>\r\n        <path d=\"M 691 4666 \r\nL 3169 4666 \r\nL 3169 4134 \r\nL 1269 4134 \r\nL 1269 2991 \r\nQ 1406 3038 1543 3061 \r\nQ 1681 3084 1819 3084 \r\nQ 2600 3084 3056 2656 \r\nQ 3513 2228 3513 1497 \r\nQ 3513 744 3044 326 \r\nQ 2575 -91 1722 -91 \r\nQ 1428 -91 1123 -41 \r\nQ 819 9 494 109 \r\nL 494 744 \r\nQ 775 591 1075 516 \r\nQ 1375 441 1709 441 \r\nQ 2250 441 2565 725 \r\nQ 2881 1009 2881 1497 \r\nQ 2881 1984 2565 2268 \r\nQ 2250 2553 1709 2553 \r\nQ 1456 2553 1204 2497 \r\nQ 953 2441 691 2322 \r\nL 691 4666 \r\nz\r\n\" id=\"DejaVuSans-35\" transform=\"scale(0.015625)\"/>\r\n       </defs>\r\n       <use xlink:href=\"#DejaVuSans-2212\"/>\r\n       <use x=\"83.789062\" xlink:href=\"#DejaVuSans-30\"/>\r\n       <use x=\"147.412109\" xlink:href=\"#DejaVuSans-2e\"/>\r\n       <use x=\"179.199219\" xlink:href=\"#DejaVuSans-37\"/>\r\n       <use x=\"242.822266\" xlink:href=\"#DejaVuSans-35\"/>\r\n      </g>\r\n     </g>\r\n    </g>\r\n    <g id=\"ytick_3\">\r\n     <g id=\"line2d_8\">\r\n      <g>\r\n       <use style=\"stroke:#000000;stroke-width:0.8;\" x=\"44.845313\" xlink:href=\"#m9fe5473900\" y=\"165.338495\"/>\r\n      </g>\r\n     </g>\r\n     <g id=\"text_8\">\r\n      <!-- −0.50 -->\r\n      <g transform=\"translate(7.2 169.137714)scale(0.1 -0.1)\">\r\n       <use xlink:href=\"#DejaVuSans-2212\"/>\r\n       <use x=\"83.789062\" xlink:href=\"#DejaVuSans-30\"/>\r\n       <use x=\"147.412109\" xlink:href=\"#DejaVuSans-2e\"/>\r\n       <use x=\"179.199219\" xlink:href=\"#DejaVuSans-35\"/>\r\n       <use x=\"242.822266\" xlink:href=\"#DejaVuSans-30\"/>\r\n      </g>\r\n     </g>\r\n    </g>\r\n    <g id=\"ytick_4\">\r\n     <g id=\"line2d_9\">\r\n      <g>\r\n       <use style=\"stroke:#000000;stroke-width:0.8;\" x=\"44.845313\" xlink:href=\"#m9fe5473900\" y=\"140.629248\"/>\r\n      </g>\r\n     </g>\r\n     <g id=\"text_9\">\r\n      <!-- −0.25 -->\r\n      <g transform=\"translate(7.2 144.428466)scale(0.1 -0.1)\">\r\n       <use xlink:href=\"#DejaVuSans-2212\"/>\r\n       <use x=\"83.789062\" xlink:href=\"#DejaVuSans-30\"/>\r\n       <use x=\"147.412109\" xlink:href=\"#DejaVuSans-2e\"/>\r\n       <use x=\"179.199219\" xlink:href=\"#DejaVuSans-32\"/>\r\n       <use x=\"242.822266\" xlink:href=\"#DejaVuSans-35\"/>\r\n      </g>\r\n     </g>\r\n    </g>\r\n    <g id=\"ytick_5\">\r\n     <g id=\"line2d_10\">\r\n      <g>\r\n       <use style=\"stroke:#000000;stroke-width:0.8;\" x=\"44.845313\" xlink:href=\"#m9fe5473900\" y=\"115.92\"/>\r\n      </g>\r\n     </g>\r\n     <g id=\"text_10\">\r\n      <!-- 0.00 -->\r\n      <g transform=\"translate(15.579688 119.719219)scale(0.1 -0.1)\">\r\n       <use xlink:href=\"#DejaVuSans-30\"/>\r\n       <use x=\"63.623047\" xlink:href=\"#DejaVuSans-2e\"/>\r\n       <use x=\"95.410156\" xlink:href=\"#DejaVuSans-30\"/>\r\n       <use x=\"159.033203\" xlink:href=\"#DejaVuSans-30\"/>\r\n      </g>\r\n     </g>\r\n    </g>\r\n    <g id=\"ytick_6\">\r\n     <g id=\"line2d_11\">\r\n      <g>\r\n       <use style=\"stroke:#000000;stroke-width:0.8;\" x=\"44.845313\" xlink:href=\"#m9fe5473900\" y=\"91.210752\"/>\r\n      </g>\r\n     </g>\r\n     <g id=\"text_11\">\r\n      <!-- 0.25 -->\r\n      <g transform=\"translate(15.579688 95.009971)scale(0.1 -0.1)\">\r\n       <use xlink:href=\"#DejaVuSans-30\"/>\r\n       <use x=\"63.623047\" xlink:href=\"#DejaVuSans-2e\"/>\r\n       <use x=\"95.410156\" xlink:href=\"#DejaVuSans-32\"/>\r\n       <use x=\"159.033203\" xlink:href=\"#DejaVuSans-35\"/>\r\n      </g>\r\n     </g>\r\n    </g>\r\n    <g id=\"ytick_7\">\r\n     <g id=\"line2d_12\">\r\n      <g>\r\n       <use style=\"stroke:#000000;stroke-width:0.8;\" x=\"44.845313\" xlink:href=\"#m9fe5473900\" y=\"66.501505\"/>\r\n      </g>\r\n     </g>\r\n     <g id=\"text_12\">\r\n      <!-- 0.50 -->\r\n      <g transform=\"translate(15.579688 70.300723)scale(0.1 -0.1)\">\r\n       <use xlink:href=\"#DejaVuSans-30\"/>\r\n       <use x=\"63.623047\" xlink:href=\"#DejaVuSans-2e\"/>\r\n       <use x=\"95.410156\" xlink:href=\"#DejaVuSans-35\"/>\r\n       <use x=\"159.033203\" xlink:href=\"#DejaVuSans-30\"/>\r\n      </g>\r\n     </g>\r\n    </g>\r\n    <g id=\"ytick_8\">\r\n     <g id=\"line2d_13\">\r\n      <g>\r\n       <use style=\"stroke:#000000;stroke-width:0.8;\" x=\"44.845313\" xlink:href=\"#m9fe5473900\" y=\"41.792257\"/>\r\n      </g>\r\n     </g>\r\n     <g id=\"text_13\">\r\n      <!-- 0.75 -->\r\n      <g transform=\"translate(15.579688 45.591476)scale(0.1 -0.1)\">\r\n       <use xlink:href=\"#DejaVuSans-30\"/>\r\n       <use x=\"63.623047\" xlink:href=\"#DejaVuSans-2e\"/>\r\n       <use x=\"95.410156\" xlink:href=\"#DejaVuSans-37\"/>\r\n       <use x=\"159.033203\" xlink:href=\"#DejaVuSans-35\"/>\r\n      </g>\r\n     </g>\r\n    </g>\r\n    <g id=\"ytick_9\">\r\n     <g id=\"line2d_14\">\r\n      <g>\r\n       <use style=\"stroke:#000000;stroke-width:0.8;\" x=\"44.845313\" xlink:href=\"#m9fe5473900\" y=\"17.083009\"/>\r\n      </g>\r\n     </g>\r\n     <g id=\"text_14\">\r\n      <!-- 1.00 -->\r\n      <g transform=\"translate(15.579688 20.882228)scale(0.1 -0.1)\">\r\n       <use xlink:href=\"#DejaVuSans-31\"/>\r\n       <use x=\"63.623047\" xlink:href=\"#DejaVuSans-2e\"/>\r\n       <use x=\"95.410156\" xlink:href=\"#DejaVuSans-30\"/>\r\n       <use x=\"159.033203\" xlink:href=\"#DejaVuSans-30\"/>\r\n      </g>\r\n     </g>\r\n    </g>\r\n   </g>\r\n   <g id=\"line2d_15\">\r\n    <path clip-path=\"url(#p43fcf43bd8)\" d=\"M 60.063494 115.92 \r\nL 64.174459 153.010261 \r\nL 66.458328 171.596859 \r\nL 68.285423 184.67917 \r\nL 69.808003 194.063989 \r\nL 71.178324 201.161129 \r\nL 72.396388 206.297792 \r\nL 73.462194 209.832152 \r\nL 74.375741 212.119821 \r\nL 75.137031 213.490077 \r\nL 75.746063 214.230171 \r\nL 76.355095 214.65105 \r\nL 76.811869 214.756364 \r\nL 77.268642 214.681136 \r\nL 77.877674 214.300276 \r\nL 78.486706 213.599973 \r\nL 79.247996 212.278941 \r\nL 80.009285 210.469109 \r\nL 80.922833 207.665193 \r\nL 81.988639 203.548807 \r\nL 83.206702 197.780751 \r\nL 84.577024 190.026118 \r\nL 86.099603 179.988944 \r\nL 87.926699 166.250302 \r\nL 90.05831 148.397591 \r\nL 93.255727 119.439727 \r\nL 97.823465 78.178048 \r\nL 100.107334 59.662808 \r\nL 101.93443 46.656794 \r\nL 103.457009 37.346889 \r\nL 104.827331 30.324655 \r\nL 106.045394 25.259498 \r\nL 107.1112 21.790749 \r\nL 108.024748 19.561059 \r\nL 108.786037 18.240027 \r\nL 109.395069 17.539724 \r\nL 110.004101 17.158864 \r\nL 110.460875 17.083636 \r\nL 110.917649 17.18895 \r\nL 111.52668 17.609829 \r\nL 112.135712 18.349923 \r\nL 112.897002 19.720179 \r\nL 113.658292 21.578426 \r\nL 114.571839 24.43903 \r\nL 115.637645 28.619084 \r\nL 116.855709 34.455879 \r\nL 118.22603 42.281648 \r\nL 119.74861 52.388807 \r\nL 121.575705 66.196937 \r\nL 123.707316 84.108223 \r\nL 126.904733 113.104004 \r\nL 131.472472 154.311726 \r\nL 133.604083 171.596859 \r\nL 135.431178 184.67917 \r\nL 136.953758 194.063989 \r\nL 138.324079 201.161129 \r\nL 139.542143 206.297792 \r\nL 140.607948 209.832152 \r\nL 141.521496 212.119821 \r\nL 142.282786 213.490077 \r\nL 142.891818 214.230171 \r\nL 143.500849 214.65105 \r\nL 143.957623 214.756364 \r\nL 144.414397 214.681136 \r\nL 145.023429 214.300276 \r\nL 145.632461 213.599973 \r\nL 146.39375 212.278941 \r\nL 147.15504 210.469109 \r\nL 148.068588 207.665193 \r\nL 149.134393 203.548807 \r\nL 150.352457 197.780751 \r\nL 151.722779 190.026118 \r\nL 153.245358 179.988944 \r\nL 155.072453 166.250302 \r\nL 157.204065 148.397591 \r\nL 160.401481 119.439727 \r\nL 164.96922 78.178048 \r\nL 167.253089 59.662808 \r\nL 169.080184 46.656794 \r\nL 170.602764 37.346889 \r\nL 171.973085 30.324655 \r\nL 173.191149 25.259498 \r\nL 174.256955 21.790749 \r\nL 175.170502 19.561059 \r\nL 175.931792 18.240027 \r\nL 176.540824 17.539724 \r\nL 177.149856 17.158864 \r\nL 177.60663 17.083636 \r\nL 178.063403 17.18895 \r\nL 178.672435 17.609829 \r\nL 179.281467 18.349923 \r\nL 180.042757 19.720179 \r\nL 180.804046 21.578426 \r\nL 181.717594 24.43903 \r\nL 182.7834 28.619084 \r\nL 184.001463 34.455879 \r\nL 185.371785 42.281648 \r\nL 186.894364 52.388807 \r\nL 188.72146 66.196937 \r\nL 190.853071 84.108223 \r\nL 194.050488 113.104004 \r\nL 198.618226 154.311726 \r\nL 200.749837 171.596859 \r\nL 202.576933 184.67917 \r\nL 204.099512 194.063989 \r\nL 205.469834 201.161129 \r\nL 206.687897 206.297792 \r\nL 207.753703 209.832152 \r\nL 208.667251 212.119821 \r\nL 209.42854 213.490077 \r\nL 210.037572 214.230171 \r\nL 210.646604 214.65105 \r\nL 211.103378 214.756364 \r\nL 211.560152 214.681136 \r\nL 212.169184 214.300276 \r\nL 212.778215 213.599973 \r\nL 213.539505 212.278941 \r\nL 214.300795 210.469109 \r\nL 215.214342 207.665193 \r\nL 216.280148 203.548807 \r\nL 217.498212 197.780751 \r\nL 218.868533 190.026118 \r\nL 220.391113 179.988944 \r\nL 222.218208 166.250302 \r\nL 224.349819 148.397591 \r\nL 227.547236 119.439727 \r\nL 232.114975 78.178048 \r\nL 234.398844 59.662808 \r\nL 236.225939 46.656794 \r\nL 237.748519 37.346889 \r\nL 239.11884 30.324655 \r\nL 240.336904 25.259498 \r\nL 241.402709 21.790749 \r\nL 242.316257 19.561059 \r\nL 243.077547 18.240027 \r\nL 243.686579 17.539724 \r\nL 244.29561 17.158864 \r\nL 244.752384 17.083636 \r\nL 245.209158 17.18895 \r\nL 245.81819 17.609829 \r\nL 246.427222 18.349923 \r\nL 247.188511 19.720179 \r\nL 247.949801 21.578426 \r\nL 248.863349 24.43903 \r\nL 249.929154 28.619084 \r\nL 251.147218 34.455879 \r\nL 252.51754 42.281648 \r\nL 254.040119 52.388807 \r\nL 255.867214 66.196937 \r\nL 257.998826 84.108223 \r\nL 261.196243 113.104004 \r\nL 265.763981 154.311726 \r\nL 267.895592 171.596859 \r\nL 269.722688 184.67917 \r\nL 271.245267 194.063989 \r\nL 272.615589 201.161129 \r\nL 273.833652 206.297792 \r\nL 274.899458 209.832152 \r\nL 275.813005 212.119821 \r\nL 276.574295 213.490077 \r\nL 277.183327 214.230171 \r\nL 277.792359 214.65105 \r\nL 278.249133 214.756364 \r\nL 278.705906 214.681136 \r\nL 279.314938 214.300276 \r\nL 279.92397 213.599973 \r\nL 280.68526 212.278941 \r\nL 281.446549 210.469109 \r\nL 282.360097 207.665193 \r\nL 283.425903 203.548807 \r\nL 284.643966 197.780751 \r\nL 286.014288 190.026118 \r\nL 287.536867 179.988944 \r\nL 289.363963 166.250302 \r\nL 291.495574 148.397591 \r\nL 294.692991 119.439727 \r\nL 299.260729 78.178048 \r\nL 301.544599 59.662808 \r\nL 303.371694 46.656794 \r\nL 304.894273 37.346889 \r\nL 306.264595 30.324655 \r\nL 307.482658 25.259498 \r\nL 308.548464 21.790749 \r\nL 309.462012 19.561059 \r\nL 310.223301 18.240027 \r\nL 310.832333 17.539724 \r\nL 311.441365 17.158864 \r\nL 311.898139 17.083636 \r\nL 312.354913 17.18895 \r\nL 312.963945 17.609829 \r\nL 313.572976 18.349923 \r\nL 314.334266 19.720179 \r\nL 315.095556 21.578426 \r\nL 316.009103 24.43903 \r\nL 317.074909 28.619084 \r\nL 318.292973 34.455879 \r\nL 319.663294 42.281648 \r\nL 321.185874 52.388807 \r\nL 323.012969 66.196937 \r\nL 325.14458 84.108223 \r\nL 328.341997 113.104004 \r\nL 332.909736 154.311726 \r\nL 335.041347 171.596859 \r\nL 336.868442 184.67917 \r\nL 338.391022 194.063989 \r\nL 339.761343 201.161129 \r\nL 340.979407 206.297792 \r\nL 342.045212 209.832152 \r\nL 342.95876 212.119821 \r\nL 343.72005 213.490077 \r\nL 344.329082 214.230171 \r\nL 344.938113 214.65105 \r\nL 345.394887 214.756364 \r\nL 345.851661 214.681136 \r\nL 346.460693 214.300276 \r\nL 347.069725 213.599973 \r\nL 347.831014 212.278941 \r\nL 348.592304 210.469109 \r\nL 349.505852 207.665193 \r\nL 350.571657 203.548807 \r\nL 351.789721 197.780751 \r\nL 353.160043 190.026118 \r\nL 354.682622 179.988944 \r\nL 356.509717 166.250302 \r\nL 358.641329 148.397591 \r\nL 361.838746 119.439727 \r\nL 364.427131 95.6462 \r\nL 364.427131 95.6462 \r\n\" style=\"fill:none;stroke:#1f77b4;stroke-linecap:square;stroke-width:1.5;\"/>\r\n   </g>\r\n   <g id=\"patch_3\">\r\n    <path d=\"M 44.845313 224.64 \r\nL 44.845313 7.2 \r\n\" style=\"fill:none;stroke:#000000;stroke-linecap:square;stroke-linejoin:miter;stroke-width:0.8;\"/>\r\n   </g>\r\n   <g id=\"patch_4\">\r\n    <path d=\"M 379.645313 224.64 \r\nL 379.645313 7.2 \r\n\" style=\"fill:none;stroke:#000000;stroke-linecap:square;stroke-linejoin:miter;stroke-width:0.8;\"/>\r\n   </g>\r\n   <g id=\"patch_5\">\r\n    <path d=\"M 44.845313 224.64 \r\nL 379.645313 224.64 \r\n\" style=\"fill:none;stroke:#000000;stroke-linecap:square;stroke-linejoin:miter;stroke-width:0.8;\"/>\r\n   </g>\r\n   <g id=\"patch_6\">\r\n    <path d=\"M 44.845313 7.2 \r\nL 379.645313 7.2 \r\n\" style=\"fill:none;stroke:#000000;stroke-linecap:square;stroke-linejoin:miter;stroke-width:0.8;\"/>\r\n   </g>\r\n  </g>\r\n </g>\r\n <defs>\r\n  <clipPath id=\"p43fcf43bd8\">\r\n   <rect height=\"217.44\" width=\"334.8\" x=\"44.845313\" y=\"7.2\"/>\r\n  </clipPath>\r\n </defs>\r\n</svg>\r\n",
      "image/png": "[encoded data removed]"
     },
     "metadata": {
      "needs_background": "light"
     }
    }
   ],
   "source": [
    "samplingFreq = 44100 #hz \n",
    "nData = 2000 #Number of data samples \n",
    "time = np.arange(0,nData).T/samplingFreq #Time array, so that the waves can been seen over time. From 1 to 2000 with each jump being equal to .T/samplingFreq\n",
    "initPhase = np.pi/2\n",
    "amplitude = 1 \n",
    "freq = 100\n",
    "omega = 2 * np.pi * freq\n",
    "\n",
    "sinusWave = amplitude * np.cos(omega * time + initPhase)\n",
    "\n",
    "plt.plot(time,sinusWave)\n"
   ]
  },
  {
   "cell_type": "markdown",
   "metadata": {
    "cell_id": "00003-7a019403-38d5-4525-a946-391943b05e10",
    "deepnote_cell_type": "markdown"
   },
   "source": [
    "# Simple linear equation\n",
    "\n",
    "While the **linear** equation\n",
    "$$\n",
    "    x + 1 = 0\n",
    "$$\n",
    "can easily be solved, the simple **quadratic** equation\n",
    "$$\n",
    "    x^2 + 1 = 0\n",
    "$$"
   ]
  },
  {
   "cell_type": "code",
   "execution_count": 11,
   "metadata": {
    "cell_id": "00004-6f91cb65-bc93-430b-940c-ec50cfb57c0e",
    "deepnote_cell_type": "code"
   },
   "outputs": [
    {
     "output_type": "execute_result",
     "data": {
      "text/plain": [
       "(-1.0, 5.0)"
      ]
     },
     "metadata": {},
     "execution_count": 11
    },
    {
     "output_type": "display_data",
     "data": {
      "text/plain": "<Figure size 432x288 with 1 Axes>",
      "image/svg+xml": "<?xml version=\"1.0\" encoding=\"utf-8\" standalone=\"no\"?>\r\n<!DOCTYPE svg PUBLIC \"-//W3C//DTD SVG 1.1//EN\"\r\n  \"http://www.w3.org/Graphics/SVG/1.1/DTD/svg11.dtd\">\r\n<svg height=\"252.317344pt\" version=\"1.1\" viewBox=\"0 0 370.942187 252.317344\" width=\"370.942187pt\" xmlns=\"http://www.w3.org/2000/svg\" xmlns:xlink=\"http://www.w3.org/1999/xlink\">\r\n <metadata>\r\n  <rdf:RDF xmlns:cc=\"http://creativecommons.org/ns#\" xmlns:dc=\"http://purl.org/dc/elements/1.1/\" xmlns:rdf=\"http://www.w3.org/1999/02/22-rdf-syntax-ns#\">\r\n   <cc:Work>\r\n    <dc:type rdf:resource=\"http://purl.org/dc/dcmitype/StillImage\"/>\r\n    <dc:date>2021-07-12T11:04:51.026920</dc:date>\r\n    <dc:format>image/svg+xml</dc:format>\r\n    <dc:creator>\r\n     <cc:Agent>\r\n      <dc:title>Matplotlib v3.4.2, https://matplotlib.org/</dc:title>\r\n     </cc:Agent>\r\n    </dc:creator>\r\n   </cc:Work>\r\n  </rdf:RDF>\r\n </metadata>\r\n <defs>\r\n  <style type=\"text/css\">*{stroke-linecap:butt;stroke-linejoin:round;}</style>\r\n </defs>\r\n <g id=\"figure_1\">\r\n  <g id=\"patch_1\">\r\n   <path d=\"M 0 252.317344 \r\nL 370.942187 252.317344 \r\nL 370.942187 0 \r\nL 0 0 \r\nz\r\n\" style=\"fill:none;\"/>\r\n  </g>\r\n  <g id=\"axes_1\">\r\n   <g id=\"patch_2\">\r\n    <path d=\"M 28.942188 228.439219 \r\nL 363.742188 228.439219 \r\nL 363.742188 10.999219 \r\nL 28.942188 10.999219 \r\nz\r\n\" style=\"fill:#ffffff;\"/>\r\n   </g>\r\n   <g id=\"matplotlib.axis_1\">\r\n    <g id=\"xtick_1\">\r\n     <g id=\"line2d_1\">\r\n      <defs>\r\n       <path d=\"M 0 0 \r\nL 0 3.5 \r\n\" id=\"me690f6f0d3\" style=\"stroke:#000000;stroke-width:0.8;\"/>\r\n      </defs>\r\n      <g>\r\n       <use style=\"stroke:#000000;stroke-width:0.8;\" x=\"44.160369\" xlink:href=\"#me690f6f0d3\" y=\"228.439219\"/>\r\n      </g>\r\n     </g>\r\n     <g id=\"text_1\">\r\n      <!-- −2.0 -->\r\n      <g transform=\"translate(32.018963 243.037656)scale(0.1 -0.1)\">\r\n       <defs>\r\n        <path d=\"M 678 2272 \r\nL 4684 2272 \r\nL 4684 1741 \r\nL 678 1741 \r\nL 678 2272 \r\nz\r\n\" id=\"DejaVuSans-2212\" transform=\"scale(0.015625)\"/>\r\n        <path d=\"M 1228 531 \r\nL 3431 531 \r\nL 3431 0 \r\nL 469 0 \r\nL 469 531 \r\nQ 828 903 1448 1529 \r\nQ 2069 2156 2228 2338 \r\nQ 2531 2678 2651 2914 \r\nQ 2772 3150 2772 3378 \r\nQ 2772 3750 2511 3984 \r\nQ 2250 4219 1831 4219 \r\nQ 1534 4219 1204 4116 \r\nQ 875 4013 500 3803 \r\nL 500 4441 \r\nQ 881 4594 1212 4672 \r\nQ 1544 4750 1819 4750 \r\nQ 2544 4750 2975 4387 \r\nQ 3406 4025 3406 3419 \r\nQ 3406 3131 3298 2873 \r\nQ 3191 2616 2906 2266 \r\nQ 2828 2175 2409 1742 \r\nQ 1991 1309 1228 531 \r\nz\r\n\" id=\"DejaVuSans-32\" transform=\"scale(0.015625)\"/>\r\n        <path d=\"M 684 794 \r\nL 1344 794 \r\nL 1344 0 \r\nL 684 0 \r\nL 684 794 \r\nz\r\n\" id=\"DejaVuSans-2e\" transform=\"scale(0.015625)\"/>\r\n        <path d=\"M 2034 4250 \r\nQ 1547 4250 1301 3770 \r\nQ 1056 3291 1056 2328 \r\nQ 1056 1369 1301 889 \r\nQ 1547 409 2034 409 \r\nQ 2525 409 2770 889 \r\nQ 3016 1369 3016 2328 \r\nQ 3016 3291 2770 3770 \r\nQ 2525 4250 2034 4250 \r\nz\r\nM 2034 4750 \r\nQ 2819 4750 3233 4129 \r\nQ 3647 3509 3647 2328 \r\nQ 3647 1150 3233 529 \r\nQ 2819 -91 2034 -91 \r\nQ 1250 -91 836 529 \r\nQ 422 1150 422 2328 \r\nQ 422 3509 836 4129 \r\nQ 1250 4750 2034 4750 \r\nz\r\n\" id=\"DejaVuSans-30\" transform=\"scale(0.015625)\"/>\r\n       </defs>\r\n       <use xlink:href=\"#DejaVuSans-2212\"/>\r\n       <use x=\"83.789062\" xlink:href=\"#DejaVuSans-32\"/>\r\n       <use x=\"147.412109\" xlink:href=\"#DejaVuSans-2e\"/>\r\n       <use x=\"179.199219\" xlink:href=\"#DejaVuSans-30\"/>\r\n      </g>\r\n     </g>\r\n    </g>\r\n    <g id=\"xtick_2\">\r\n     <g id=\"line2d_2\">\r\n      <g>\r\n       <use style=\"stroke:#000000;stroke-width:0.8;\" x=\"82.205824\" xlink:href=\"#me690f6f0d3\" y=\"228.439219\"/>\r\n      </g>\r\n     </g>\r\n     <g id=\"text_2\">\r\n      <!-- −1.5 -->\r\n      <g transform=\"translate(70.064418 243.037656)scale(0.1 -0.1)\">\r\n       <defs>\r\n        <path d=\"M 794 531 \r\nL 1825 531 \r\nL 1825 4091 \r\nL 703 3866 \r\nL 703 4441 \r\nL 1819 4666 \r\nL 2450 4666 \r\nL 2450 531 \r\nL 3481 531 \r\nL 3481 0 \r\nL 794 0 \r\nL 794 531 \r\nz\r\n\" id=\"DejaVuSans-31\" transform=\"scale(0.015625)\"/>\r\n        <path d=\"M 691 4666 \r\nL 3169 4666 \r\nL 3169 4134 \r\nL 1269 4134 \r\nL 1269 2991 \r\nQ 1406 3038 1543 3061 \r\nQ 1681 3084 1819 3084 \r\nQ 2600 3084 3056 2656 \r\nQ 3513 2228 3513 1497 \r\nQ 3513 744 3044 326 \r\nQ 2575 -91 1722 -91 \r\nQ 1428 -91 1123 -41 \r\nQ 819 9 494 109 \r\nL 494 744 \r\nQ 775 591 1075 516 \r\nQ 1375 441 1709 441 \r\nQ 2250 441 2565 725 \r\nQ 2881 1009 2881 1497 \r\nQ 2881 1984 2565 2268 \r\nQ 2250 2553 1709 2553 \r\nQ 1456 2553 1204 2497 \r\nQ 953 2441 691 2322 \r\nL 691 4666 \r\nz\r\n\" id=\"DejaVuSans-35\" transform=\"scale(0.015625)\"/>\r\n       </defs>\r\n       <use xlink:href=\"#DejaVuSans-2212\"/>\r\n       <use x=\"83.789062\" xlink:href=\"#DejaVuSans-31\"/>\r\n       <use x=\"147.412109\" xlink:href=\"#DejaVuSans-2e\"/>\r\n       <use x=\"179.199219\" xlink:href=\"#DejaVuSans-35\"/>\r\n      </g>\r\n     </g>\r\n    </g>\r\n    <g id=\"xtick_3\">\r\n     <g id=\"line2d_3\">\r\n      <g>\r\n       <use style=\"stroke:#000000;stroke-width:0.8;\" x=\"120.251278\" xlink:href=\"#me690f6f0d3\" y=\"228.439219\"/>\r\n      </g>\r\n     </g>\r\n     <g id=\"text_3\">\r\n      <!-- −1.0 -->\r\n      <g transform=\"translate(108.109872 243.037656)scale(0.1 -0.1)\">\r\n       <use xlink:href=\"#DejaVuSans-2212\"/>\r\n       <use x=\"83.789062\" xlink:href=\"#DejaVuSans-31\"/>\r\n       <use x=\"147.412109\" xlink:href=\"#DejaVuSans-2e\"/>\r\n       <use x=\"179.199219\" xlink:href=\"#DejaVuSans-30\"/>\r\n      </g>\r\n     </g>\r\n    </g>\r\n    <g id=\"xtick_4\">\r\n     <g id=\"line2d_4\">\r\n      <g>\r\n       <use style=\"stroke:#000000;stroke-width:0.8;\" x=\"158.296733\" xlink:href=\"#me690f6f0d3\" y=\"228.439219\"/>\r\n      </g>\r\n     </g>\r\n     <g id=\"text_4\">\r\n      <!-- −0.5 -->\r\n      <g transform=\"translate(146.155327 243.037656)scale(0.1 -0.1)\">\r\n       <use xlink:href=\"#DejaVuSans-2212\"/>\r\n       <use x=\"83.789062\" xlink:href=\"#DejaVuSans-30\"/>\r\n       <use x=\"147.412109\" xlink:href=\"#DejaVuSans-2e\"/>\r\n       <use x=\"179.199219\" xlink:href=\"#DejaVuSans-35\"/>\r\n      </g>\r\n     </g>\r\n    </g>\r\n    <g id=\"xtick_5\">\r\n     <g id=\"line2d_5\">\r\n      <g>\r\n       <use style=\"stroke:#000000;stroke-width:0.8;\" x=\"196.342188\" xlink:href=\"#me690f6f0d3\" y=\"228.439219\"/>\r\n      </g>\r\n     </g>\r\n     <g id=\"text_5\">\r\n      <!-- 0.0 -->\r\n      <g transform=\"translate(188.390625 243.037656)scale(0.1 -0.1)\">\r\n       <use xlink:href=\"#DejaVuSans-30\"/>\r\n       <use x=\"63.623047\" xlink:href=\"#DejaVuSans-2e\"/>\r\n       <use x=\"95.410156\" xlink:href=\"#DejaVuSans-30\"/>\r\n      </g>\r\n     </g>\r\n    </g>\r\n    <g id=\"xtick_6\">\r\n     <g id=\"line2d_6\">\r\n      <g>\r\n       <use style=\"stroke:#000000;stroke-width:0.8;\" x=\"234.387642\" xlink:href=\"#me690f6f0d3\" y=\"228.439219\"/>\r\n      </g>\r\n     </g>\r\n     <g id=\"text_6\">\r\n      <!-- 0.5 -->\r\n      <g transform=\"translate(226.43608 243.037656)scale(0.1 -0.1)\">\r\n       <use xlink:href=\"#DejaVuSans-30\"/>\r\n       <use x=\"63.623047\" xlink:href=\"#DejaVuSans-2e\"/>\r\n       <use x=\"95.410156\" xlink:href=\"#DejaVuSans-35\"/>\r\n      </g>\r\n     </g>\r\n    </g>\r\n    <g id=\"xtick_7\">\r\n     <g id=\"line2d_7\">\r\n      <g>\r\n       <use style=\"stroke:#000000;stroke-width:0.8;\" x=\"272.433097\" xlink:href=\"#me690f6f0d3\" y=\"228.439219\"/>\r\n      </g>\r\n     </g>\r\n     <g id=\"text_7\">\r\n      <!-- 1.0 -->\r\n      <g transform=\"translate(264.481534 243.037656)scale(0.1 -0.1)\">\r\n       <use xlink:href=\"#DejaVuSans-31\"/>\r\n       <use x=\"63.623047\" xlink:href=\"#DejaVuSans-2e\"/>\r\n       <use x=\"95.410156\" xlink:href=\"#DejaVuSans-30\"/>\r\n      </g>\r\n     </g>\r\n    </g>\r\n    <g id=\"xtick_8\">\r\n     <g id=\"line2d_8\">\r\n      <g>\r\n       <use style=\"stroke:#000000;stroke-width:0.8;\" x=\"310.478551\" xlink:href=\"#me690f6f0d3\" y=\"228.439219\"/>\r\n      </g>\r\n     </g>\r\n     <g id=\"text_8\">\r\n      <!-- 1.5 -->\r\n      <g transform=\"translate(302.526989 243.037656)scale(0.1 -0.1)\">\r\n       <use xlink:href=\"#DejaVuSans-31\"/>\r\n       <use x=\"63.623047\" xlink:href=\"#DejaVuSans-2e\"/>\r\n       <use x=\"95.410156\" xlink:href=\"#DejaVuSans-35\"/>\r\n      </g>\r\n     </g>\r\n    </g>\r\n    <g id=\"xtick_9\">\r\n     <g id=\"line2d_9\">\r\n      <g>\r\n       <use style=\"stroke:#000000;stroke-width:0.8;\" x=\"348.524006\" xlink:href=\"#me690f6f0d3\" y=\"228.439219\"/>\r\n      </g>\r\n     </g>\r\n     <g id=\"text_9\">\r\n      <!-- 2.0 -->\r\n      <g transform=\"translate(340.572443 243.037656)scale(0.1 -0.1)\">\r\n       <use xlink:href=\"#DejaVuSans-32\"/>\r\n       <use x=\"63.623047\" xlink:href=\"#DejaVuSans-2e\"/>\r\n       <use x=\"95.410156\" xlink:href=\"#DejaVuSans-30\"/>\r\n      </g>\r\n     </g>\r\n    </g>\r\n   </g>\r\n   <g id=\"matplotlib.axis_2\">\r\n    <g id=\"ytick_1\">\r\n     <g id=\"line2d_10\">\r\n      <defs>\r\n       <path d=\"M 0 0 \r\nL -3.5 0 \r\n\" id=\"mcc9ae101ce\" style=\"stroke:#000000;stroke-width:0.8;\"/>\r\n      </defs>\r\n      <g>\r\n       <use style=\"stroke:#000000;stroke-width:0.8;\" x=\"28.942188\" xlink:href=\"#mcc9ae101ce\" y=\"228.439219\"/>\r\n      </g>\r\n     </g>\r\n     <g id=\"text_10\">\r\n      <!-- −1 -->\r\n      <g transform=\"translate(7.2 232.238437)scale(0.1 -0.1)\">\r\n       <use xlink:href=\"#DejaVuSans-2212\"/>\r\n       <use x=\"83.789062\" xlink:href=\"#DejaVuSans-31\"/>\r\n      </g>\r\n     </g>\r\n    </g>\r\n    <g id=\"ytick_2\">\r\n     <g id=\"line2d_11\">\r\n      <g>\r\n       <use style=\"stroke:#000000;stroke-width:0.8;\" x=\"28.942188\" xlink:href=\"#mcc9ae101ce\" y=\"192.199219\"/>\r\n      </g>\r\n     </g>\r\n     <g id=\"text_11\">\r\n      <!-- 0 -->\r\n      <g transform=\"translate(15.579688 195.998437)scale(0.1 -0.1)\">\r\n       <use xlink:href=\"#DejaVuSans-30\"/>\r\n      </g>\r\n     </g>\r\n    </g>\r\n    <g id=\"ytick_3\">\r\n     <g id=\"line2d_12\">\r\n      <g>\r\n       <use style=\"stroke:#000000;stroke-width:0.8;\" x=\"28.942188\" xlink:href=\"#mcc9ae101ce\" y=\"155.959219\"/>\r\n      </g>\r\n     </g>\r\n     <g id=\"text_12\">\r\n      <!-- 1 -->\r\n      <g transform=\"translate(15.579688 159.758437)scale(0.1 -0.1)\">\r\n       <use xlink:href=\"#DejaVuSans-31\"/>\r\n      </g>\r\n     </g>\r\n    </g>\r\n    <g id=\"ytick_4\">\r\n     <g id=\"line2d_13\">\r\n      <g>\r\n       <use style=\"stroke:#000000;stroke-width:0.8;\" x=\"28.942188\" xlink:href=\"#mcc9ae101ce\" y=\"119.719219\"/>\r\n      </g>\r\n     </g>\r\n     <g id=\"text_13\">\r\n      <!-- 2 -->\r\n      <g transform=\"translate(15.579688 123.518438)scale(0.1 -0.1)\">\r\n       <use xlink:href=\"#DejaVuSans-32\"/>\r\n      </g>\r\n     </g>\r\n    </g>\r\n    <g id=\"ytick_5\">\r\n     <g id=\"line2d_14\">\r\n      <g>\r\n       <use style=\"stroke:#000000;stroke-width:0.8;\" x=\"28.942188\" xlink:href=\"#mcc9ae101ce\" y=\"83.479219\"/>\r\n      </g>\r\n     </g>\r\n     <g id=\"text_14\">\r\n      <!-- 3 -->\r\n      <g transform=\"translate(15.579688 87.278437)scale(0.1 -0.1)\">\r\n       <defs>\r\n        <path d=\"M 2597 2516 \r\nQ 3050 2419 3304 2112 \r\nQ 3559 1806 3559 1356 \r\nQ 3559 666 3084 287 \r\nQ 2609 -91 1734 -91 \r\nQ 1441 -91 1130 -33 \r\nQ 819 25 488 141 \r\nL 488 750 \r\nQ 750 597 1062 519 \r\nQ 1375 441 1716 441 \r\nQ 2309 441 2620 675 \r\nQ 2931 909 2931 1356 \r\nQ 2931 1769 2642 2001 \r\nQ 2353 2234 1838 2234 \r\nL 1294 2234 \r\nL 1294 2753 \r\nL 1863 2753 \r\nQ 2328 2753 2575 2939 \r\nQ 2822 3125 2822 3475 \r\nQ 2822 3834 2567 4026 \r\nQ 2313 4219 1838 4219 \r\nQ 1578 4219 1281 4162 \r\nQ 984 4106 628 3988 \r\nL 628 4550 \r\nQ 988 4650 1302 4700 \r\nQ 1616 4750 1894 4750 \r\nQ 2613 4750 3031 4423 \r\nQ 3450 4097 3450 3541 \r\nQ 3450 3153 3228 2886 \r\nQ 3006 2619 2597 2516 \r\nz\r\n\" id=\"DejaVuSans-33\" transform=\"scale(0.015625)\"/>\r\n       </defs>\r\n       <use xlink:href=\"#DejaVuSans-33\"/>\r\n      </g>\r\n     </g>\r\n    </g>\r\n    <g id=\"ytick_6\">\r\n     <g id=\"line2d_15\">\r\n      <g>\r\n       <use style=\"stroke:#000000;stroke-width:0.8;\" x=\"28.942188\" xlink:href=\"#mcc9ae101ce\" y=\"47.239219\"/>\r\n      </g>\r\n     </g>\r\n     <g id=\"text_15\">\r\n      <!-- 4 -->\r\n      <g transform=\"translate(15.579688 51.038438)scale(0.1 -0.1)\">\r\n       <defs>\r\n        <path d=\"M 2419 4116 \r\nL 825 1625 \r\nL 2419 1625 \r\nL 2419 4116 \r\nz\r\nM 2253 4666 \r\nL 3047 4666 \r\nL 3047 1625 \r\nL 3713 1625 \r\nL 3713 1100 \r\nL 3047 1100 \r\nL 3047 0 \r\nL 2419 0 \r\nL 2419 1100 \r\nL 313 1100 \r\nL 313 1709 \r\nL 2253 4666 \r\nz\r\n\" id=\"DejaVuSans-34\" transform=\"scale(0.015625)\"/>\r\n       </defs>\r\n       <use xlink:href=\"#DejaVuSans-34\"/>\r\n      </g>\r\n     </g>\r\n    </g>\r\n    <g id=\"ytick_7\">\r\n     <g id=\"line2d_16\">\r\n      <g>\r\n       <use style=\"stroke:#000000;stroke-width:0.8;\" x=\"28.942188\" xlink:href=\"#mcc9ae101ce\" y=\"10.999219\"/>\r\n      </g>\r\n     </g>\r\n     <g id=\"text_16\">\r\n      <!-- 5 -->\r\n      <g transform=\"translate(15.579688 14.798438)scale(0.1 -0.1)\">\r\n       <use xlink:href=\"#DejaVuSans-35\"/>\r\n      </g>\r\n     </g>\r\n    </g>\r\n   </g>\r\n   <g id=\"line2d_17\">\r\n    <path clip-path=\"url(#p1ba482e264)\" d=\"M 44.160369 10.999219 \r\nL 47.234749 16.797027 \r\nL 50.30913 22.476513 \r\nL 53.38351 28.037676 \r\nL 56.45789 33.480517 \r\nL 59.53227 38.805034 \r\nL 62.60665 44.01123 \r\nL 65.68103 49.099102 \r\nL 68.755411 54.068652 \r\nL 71.829791 58.91988 \r\nL 74.904171 63.652785 \r\nL 77.978551 68.267367 \r\nL 81.052931 72.763626 \r\nL 84.127311 77.141563 \r\nL 87.201692 81.401178 \r\nL 90.276072 85.542469 \r\nL 93.350452 89.565439 \r\nL 96.424832 93.470085 \r\nL 99.499212 97.256409 \r\nL 102.573592 100.92441 \r\nL 105.647973 104.474089 \r\nL 108.722353 107.905445 \r\nL 111.796733 111.218478 \r\nL 114.871113 114.413189 \r\nL 117.945493 117.489577 \r\nL 121.019873 120.447642 \r\nL 124.094254 123.287385 \r\nL 127.168634 126.008806 \r\nL 130.243014 128.611903 \r\nL 133.317394 131.096678 \r\nL 136.391774 133.463131 \r\nL 139.466154 135.71126 \r\nL 142.540535 137.841068 \r\nL 145.614915 139.852552 \r\nL 148.689295 141.745714 \r\nL 151.763675 143.520553 \r\nL 154.838055 145.17707 \r\nL 157.912435 146.715264 \r\nL 160.986816 148.135135 \r\nL 164.061196 149.436684 \r\nL 167.135576 150.619911 \r\nL 170.209956 151.684814 \r\nL 173.284336 152.631395 \r\nL 176.358716 153.459653 \r\nL 179.433097 154.169589 \r\nL 182.507477 154.761202 \r\nL 185.581857 155.234493 \r\nL 188.656237 155.589461 \r\nL 191.730617 155.826106 \r\nL 194.804997 155.944428 \r\nL 197.879378 155.944428 \r\nL 200.953758 155.826106 \r\nL 204.028138 155.589461 \r\nL 207.102518 155.234493 \r\nL 210.176898 154.761202 \r\nL 213.251278 154.169589 \r\nL 216.325659 153.459653 \r\nL 219.400039 152.631395 \r\nL 222.474419 151.684814 \r\nL 225.548799 150.619911 \r\nL 228.623179 149.436684 \r\nL 231.697559 148.135135 \r\nL 234.77194 146.715264 \r\nL 237.84632 145.17707 \r\nL 240.9207 143.520553 \r\nL 243.99508 141.745714 \r\nL 247.06946 139.852552 \r\nL 250.14384 137.841068 \r\nL 253.218221 135.71126 \r\nL 256.292601 133.463131 \r\nL 259.366981 131.096678 \r\nL 262.441361 128.611903 \r\nL 265.515741 126.008806 \r\nL 268.590121 123.287385 \r\nL 271.664502 120.447642 \r\nL 274.738882 117.489577 \r\nL 277.813262 114.413189 \r\nL 280.887642 111.218478 \r\nL 283.962022 107.905445 \r\nL 287.036402 104.474089 \r\nL 290.110783 100.92441 \r\nL 293.185163 97.256409 \r\nL 296.259543 93.470085 \r\nL 299.333923 89.565439 \r\nL 302.408303 85.542469 \r\nL 305.482683 81.401178 \r\nL 308.557064 77.141563 \r\nL 311.631444 72.763626 \r\nL 314.705824 68.267367 \r\nL 317.780204 63.652785 \r\nL 320.854584 58.91988 \r\nL 323.928964 54.068652 \r\nL 327.003345 49.099102 \r\nL 330.077725 44.01123 \r\nL 333.152105 38.805034 \r\nL 336.226485 33.480517 \r\nL 339.300865 28.037676 \r\nL 342.375245 22.476513 \r\nL 345.449626 16.797027 \r\nL 348.524006 10.999219 \r\n\" style=\"fill:none;stroke:#1f77b4;stroke-linecap:square;stroke-width:2;\"/>\r\n   </g>\r\n   <g id=\"patch_3\">\r\n    <path d=\"M 28.942188 228.439219 \r\nL 28.942188 10.999219 \r\n\" style=\"fill:none;stroke:#000000;stroke-linecap:square;stroke-linejoin:miter;stroke-width:0.8;\"/>\r\n   </g>\r\n   <g id=\"patch_4\">\r\n    <path d=\"M 363.742188 228.439219 \r\nL 363.742188 10.999219 \r\n\" style=\"fill:none;stroke:#000000;stroke-linecap:square;stroke-linejoin:miter;stroke-width:0.8;\"/>\r\n   </g>\r\n   <g id=\"patch_5\">\r\n    <path d=\"M 28.942188 228.439219 \r\nL 363.742188 228.439219 \r\n\" style=\"fill:none;stroke:#000000;stroke-linecap:square;stroke-linejoin:miter;stroke-width:0.8;\"/>\r\n   </g>\r\n   <g id=\"patch_6\">\r\n    <path d=\"M 28.942188 10.999219 \r\nL 363.742188 10.999219 \r\n\" style=\"fill:none;stroke:#000000;stroke-linecap:square;stroke-linejoin:miter;stroke-width:0.8;\"/>\r\n   </g>\r\n  </g>\r\n </g>\r\n <defs>\r\n  <clipPath id=\"p1ba482e264\">\r\n   <rect height=\"217.44\" width=\"334.8\" x=\"28.942188\" y=\"10.999219\"/>\r\n  </clipPath>\r\n </defs>\r\n</svg>\r\n",
      "image/png": "[encoded data removed]"
     },
     "metadata": {
      "needs_background": "light"
     }
    }
   ],
   "source": [
    "nData = 100\n",
    "x = np.linspace(-2,2,nData)\n",
    "y = x**2 + 1\n",
    "yy = x**2 - 3 * x + 1\n",
    "\n",
    "plt.plot(x,y,linewidth=2)\n",
    "plt.ylim(-1,5)"
   ]
  },
  {
   "cell_type": "markdown",
   "metadata": {
    "cell_id": "00005-8bac7cb4-cb8b-4b5e-ba26-4ab26c7cf6a6",
    "deepnote_cell_type": "markdown"
   },
   "source": [
    "# Eulers Identity: \n",
    "# ![image.png](attachment:image.png)"
   ]
  },
  {
   "cell_type": "markdown",
   "metadata": {
    "cell_id": "00006-5f5f5920-09f9-42b3-ade3-d964e30f41ed",
    "deepnote_cell_type": "markdown"
   },
   "source": [
    "![image.png](attachment:image.png)"
   ]
  },
  {
   "cell_type": "code",
   "execution_count": 12,
   "metadata": {
    "cell_id": "00007-b55103e9-3a81-4768-9d50-fe250591adb6",
    "deepnote_cell_type": "code"
   },
   "outputs": [
    {
     "output_type": "stream",
     "name": "stdout",
     "text": [
      "1.2246467991473532e-16j\n(0.4535961214255773+0.8912073600614354j)\n(0.4535961214255773+0.8912073600614354j)\n"
     ]
    }
   ],
   "source": [
    "import math\n",
    "\n",
    "#Creating eulers identity\n",
    "eulersIdentity = (math.e**(1j*math.pi)) + 1\n",
    "print(eulersIdentity)\n",
    "\n",
    "xx = 1.1\n",
    "\n",
    "#Complex number. Written with eulers formula\n",
    "ab = math.cos(xx) + 1j * math.sin(xx)\n",
    "\n",
    "#Can also be written with another form of eulers formula \n",
    "ab2 = math.e**(1.1 * 1j)\n",
    "\n",
    "#Results in the following: (0.4535961214255773+0.8912073600614354j) This is in RADIANS not degrees\n",
    "\n",
    "print(ab)\n",
    "print(ab2)"
   ]
  },
  {
   "cell_type": "markdown",
   "metadata": {
    "cell_id": "00008-f850b889-5987-4ac1-9d4d-27dba0d9a08d",
    "deepnote_cell_type": "markdown"
   },
   "source": [
    "### The polar (or exponential) form of a complex number\n",
    "As for 2D vectors, we can also write a complex number in terms of its **magnitude** $r$ and **angle** $\\psi$. We have\n",
    "\\begin{align}\n",
    "    a &= r\\cos\\psi\\\\\n",
    "    b &= r\\sin\\psi\\ .\n",
    "\\end{align}\n",
    "Thus,\n",
    "$$\n",
    "    z = a + jb = r\\left(\\cos\\psi + j\\sin\\psi\\right) = r\\mathrm{e}^{j\\psi}\n",
    "$$\n",
    "\n",
    "where the last equality follows from **Euler's formula**.\n",
    "\n",
    "#### Euler's formula\n",
    "Given by\n",
    "$$\n",
    "    \\mathrm{e}^{j\\psi} = \\cos\\psi + j\\sin\\psi\\ .\n",
    "$$\n",
    "- A very important formula used everywhere in science and engineering\n",
    "- Simplifies notation and mathematical manipulations\n",
    "- Its real and imaginary parts are a cosine and a sine, respectively, i.e.,\n",
    "\\begin{align}\n",
    "    \\text{Re}(\\mathrm{e}^{j\\psi}) &= \\cos\\psi\\\\\n",
    "    \\text{Im}(\\mathrm{e}^{j\\psi}) &= \\sin\\psi\\ .\n",
    "\\end{align}"
   ]
  },
  {
   "cell_type": "markdown",
   "metadata": {
    "cell_id": "00009-154295c5-375b-4b09-824d-f00421093644",
    "deepnote_cell_type": "markdown"
   },
   "source": [
    "# Convert from cartesian coordinates to polar coordinates\n",
    "\n",
    "We can include a radius of r in the formula above, to turn any point (such as 3 + 4i) into re^jx form by finding the correct value of x and r:\n",
    "\n",
    "To turn 3 + 4i into re^jx form we do a Cartesian to Polar conversion:\n",
    "\n",
    "r = √(9+16) = √25 = 5\n",
    "\n",
    "x or 𝜓 = tan^-1 ( 4 / 3 ) = 0,927 (to 3 decimals)\n",
    "\n",
    "So 3 + 4i can also be 5e^0,927 i\n",
    "\n",
    "We use this formula to convert from cartessian to polar. The '0' is the 'x'\n",
    "\n",
    "![image.png](attachment:image.png)\n",
    "\n",
    "We can also convert back to cartessian coordinates by using these formulas\n",
    "\n",
    "\\begin{align}\n",
    "    a &= r\\cos\\psi\\\\\n",
    "    b &= r\\sin\\psi\\ .\n",
    "\\end{align}"
   ]
  },
  {
   "cell_type": "code",
   "execution_count": 13,
   "metadata": {
    "cell_id": "00010-1621f764-5dd6-4543-8540-7aafcb254291",
    "deepnote_cell_type": "code"
   },
   "outputs": [
    {
     "output_type": "stream",
     "name": "stdout",
     "text": [
      "r value is:  5.0 and x value is: 0.9272952180016122j\nNone\n"
     ]
    }
   ],
   "source": [
    "cn = 3 + 4j\n",
    "\n",
    "def convertToPolar(realPart,imaginaryPart):\n",
    "    r = math.sqrt(realPart**2 + imaginaryPart**2)\n",
    "    x = math.atan(imaginaryPart / realPart)\n",
    "    print(\"r value is:  \" + str(r) + \" and \" + \"x value is: \" + str(x) + \"j\")\n",
    "    \n",
    "print(convertToPolar(3,4))    "
   ]
  },
  {
   "cell_type": "code",
   "execution_count": 19,
   "metadata": {
    "cell_id": "00011-bd0ecf85-bd34-458e-9df4-98ae23491cfa",
    "deepnote_cell_type": "code"
   },
   "outputs": [],
   "source": [
    "#Converting back from polar to cartessin coordinates \n",
    "def PolarToCartessian(rr,xx):\n",
    "    valueAA = rr * math.cos(xx)\n",
    "    valueBB = rr * math.sin(xx)\n",
    "    print(str(valueAA) + \"   \" + str(valueBB))"
   ]
  },
  {
   "cell_type": "markdown",
   "metadata": {
    "cell_id": "00012-9b6358a2-81fd-47fb-b8ae-3e7c2668e1d0",
    "deepnote_cell_type": "markdown"
   },
   "source": [
    "We then insert the x and r value into eulers formula with 'r' added\n",
    "\n",
    "![](https://i.ibb.co/ScbfPFN/reIX.png)\n",
    "\n",
    "And we end up with:\n",
    "\n",
    "![](https://i.ibb.co/bNRL7fm/Xx.png)"
   ]
  },
  {
   "cell_type": "markdown",
   "metadata": {
    "cell_id": "00013-a6af01f0-7797-419d-8614-213b795cd8c9",
    "deepnote_cell_type": "markdown"
   },
   "source": [
    "# The complex conjugate\n",
    "The **complex conjugate** of a complex number\n",
    "$$\n",
    "    z=r \\mathrm{e}^{j\\psi}\n",
    "$$\n",
    "is\n",
    "$$\n",
    "    z^* = r \\mathrm{e}^{-j\\psi}\\ .\n",
    "$$\n",
    "Thus, the conjugation operator ${}^*$ changes the sign of the angle, but not the magnitude."
   ]
  },
  {
   "cell_type": "markdown",
   "metadata": {
    "cell_id": "00014-a5e8681d-bb97-447e-bad3-17d838ae2a0f",
    "deepnote_cell_type": "markdown"
   },
   "source": [
    "# Multiplication of complex numbers\n",
    "Multiplication of complex numbers is much easier when the polar form is used. Let\n",
    "\\begin{align}\n",
    "    z_1 &= a_1+jb_1 = r_1 \\mathrm{e}^{j\\psi_1}\\\\\n",
    "    z_2 &= a_2+jb_2 = r_2 \\mathrm{e}^{j\\psi_2}\\ .\n",
    "\\end{align}\n",
    "\n",
    "The **product** of these two numbers is then\n",
    "$$\n",
    "    z = z_1z_2 = r_1 \\mathrm{e}^{j\\psi_1}r_2 \\mathrm{e}^{j\\psi_2} = r_1 r_2 \\mathrm{e}^{j\\psi_1}r_2 \\mathrm{e}^{j\\psi_2} = r_1 r_2 \\mathrm{e}^{j(\\psi_1+\\psi_2)}\n",
    "$$\n",
    "where we used $a^na^m = a^{n+m}$ to get the last equation.\n",
    "\n",
    "Thus, to multiply two complex numbers we\n",
    "- multiply their magnitudes\n",
    "- add their angles\n",
    "\n",
    "Note that **divisions** can be calculated as multiplications since\n",
    "$$\n",
    "    \\frac{z_1}{z_2} = z_1\\frac{1}{z_2} = z_1 z_2^{-1}\n",
    "$$\n",
    "and\n",
    "$$\n",
    "    z_2^{-1} = \\frac{1}{r_2}\\mathrm{e}^{-j\\psi_2}\\ .\n",
    "$$"
   ]
  },
  {
   "cell_type": "code",
   "execution_count": 11,
   "metadata": {
    "cell_id": "00015-f5d3fae2-660d-4a5f-a21e-a32688427d73",
    "deepnote_cell_type": "code"
   },
   "outputs": [
    {
     "name": "stdout",
     "output_type": "stream",
     "text": [
      "r value is:  2.23606797749979 and x value is: 1.1071487177940904j\n",
      "r value is:  11.180339887498949 and x value is: 1.1071487177940904j\n",
      "\n",
      "24.9314e2.22\n",
      "\n",
      "-15.071488117474185   19.858377222845636\n"
     ]
    }
   ],
   "source": [
    "# Multiplication of complex numbers with polar complex numbers\n",
    "# Converting to normal complex numbers to Polar with our function above\n",
    "convertToPolar(1,2)\n",
    "convertToPolar(5,10)\n",
    "print()\n",
    "\n",
    "\n",
    "#Because multiplying polar is easier. We multiply one polar coordinate with another.\n",
    "def multiplyPolar(r1, r2, x1, x2):\n",
    "    newR = r1*r2\n",
    "    newX = x1+x2\n",
    "    print(str(newR) + \"e\" + str(newX))\n",
    "    \n",
    "\n",
    "multiplyPolar(2.23, 11.18, 1.11, 1.11)  # Here we multiply to polar coordinates. \n",
    "# Result is: 24.9314e^2.22\n",
    "print()\n",
    "PolarToCartessian(24.93, 2.22)  # Here we convert it back to cartessian"
   ]
  },
  {
   "cell_type": "markdown",
   "metadata": {
    "cell_id": "00016-6b579d36-5a90-499c-92db-9c497471430c",
    "deepnote_cell_type": "markdown"
   },
   "source": [
    "# Phasors\n",
    "\n",
    "We previously looked at the sinusoid: \n",
    "$$\n",
    "    x(t) = A\\cos(\\Omega t + \\Phi)\\ .\n",
    "$$\n"
   ]
  },
  {
   "cell_type": "markdown",
   "metadata": {
    "cell_id": "00017-dde72a9e-8d66-4c0d-bb5b-544e895366e7",
    "deepnote_cell_type": "markdown"
   },
   "source": [
    "Based on what we know about Euler's formula and complex numbers, we can now also write $x(t)$ as\n",
    "$$\n",
    "    x(t) = \\text{Re}\\left[A\\exp(j(\\Omega t +\\Psi))\\right]\n",
    "$$\n",
    "since (from Euler's formula)\n",
    "$$\n",
    "    A\\exp(j(\\Omega t +\\Psi)) = A\\cos(\\Omega t +\\Psi)+jA\\sin(\\Omega t +\\Psi)\\ .\n",
    "$$\n",
    "This time-varying complex number is called a **phasor** or a **complex sinusoid**.\n",
    "\n",
    "Note that\n",
    "- using the phasor instead of the real sinusoid makes life much easier (you will see this later in the course)\n",
    "- even though we work with the phasor, we can always come back to the real sinusoid by taking the real part of the phasor"
   ]
  },
  {
   "cell_type": "code",
   "execution_count": null,
   "metadata": {
    "cell_id": "00018-b083b796-6917-455b-888d-430e700dda7c",
    "deepnote_cell_type": "code"
   },
   "outputs": [],
   "source": [
    "# Here is a simple sinusoid. Lets try and create it with a phasor instead\n",
    "\n",
    "samplingFreq2 = 44100  # hz \n",
    "nData2 = 2000  # Number of data samples\n",
    "time2 = np.arange(0, nData2).T/samplingFreq2  # Time array, so that the waves can been seen over time. From 1 to 2000 with each jump being equal to .T/samplingFreq\n",
    "initPhase2 = np.pi/2\n",
    "amplitude2 = 1\n",
    "freq2 = 100\n",
    "omega2 = 2 * np.pi * freq2\n",
    "\n",
    "sinusWave2 = amplitude2 * np.cos(omega2 * time2 + initPhase2)\n",
    "\n",
    "plt.plot(time2, sinusWave2, linewidth=3)\n",
    "plt.ylim(0, 1)\n",
    "plt.xlim(time[0], time2[nData2-1])\n",
    "plt.grid(True)"
   ]
  },
  {
   "cell_type": "code",
   "execution_count": null,
   "metadata": {
    "cell_id": "00019-f0121562-8dec-459c-8049-7e56849d834e",
    "deepnote_cell_type": "code"
   },
   "outputs": [],
   "source": [
    "import cmath\n",
    "import numpy as np\n",
    "\n",
    "#trying to make a phasor \n",
    "#ej0 = (amplitude2 * math.cos(omega2*1+initPhase2)) + (1j * amplitude2 * math.sin(omega2*time2+initPhase2))\n",
    "aaa = 5 \n",
    "bbb = 4j\n",
    "newComplex = aaa + bbb\n",
    "\n",
    "#Getting phasor of normal complex number newComplex\n",
    "phaseOfComplex = cmath.phase(newComplex)\n",
    "poc = math.atan2(newComplex.imag, newComplex.real)\n",
    "print(newComplex)\n",
    "print(phaseOfComplex)\n",
    "print(poc)\n",
    "print(np.degrees(poc))\n",
    "\n",
    "#Converting angle back to normal"
   ]
  },
  {
   "cell_type": "markdown",
   "metadata": {
    "created_in_deepnote_cell": true,
    "deepnote_cell_type": "markdown",
    "tags": []
   },
   "source": [
    "<a style='text-decoration:none;line-height:16px;display:flex;color:#5B5B62;padding:10px;justify-content:end;' href='https://deepnote.com?utm_source=created-in-deepnote-cell&projectId=7795dd5d-bbf3-4739-b229-8489999d5d0b' target=\"_blank\">\n",
    "<img alt='Created in deepnote.com' style='display:inline;max-height:16px;margin:0px;margin-right:7.5px;' src='data:image/svg+xml;base64,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' > </img>\n",
    "Created in <span style='font-weight:600;margin-left:4px;'>Deepnote</span></a>"
   ]
  }
 ],
 "metadata": {
  "deepnote": {},
  "deepnote_execution_queue": [],
  "deepnote_notebook_id": "d536f670-106e-4865-b24d-91a15db942d5",
  "kernelspec": {
   "name": "python3",
   "display_name": "Python 3.9.6 64-bit (windows store)"
  },
  "language_info": {
   "codemirror_mode": {
    "name": "ipython",
    "version": 3
   },
   "file_extension": ".py",
   "mimetype": "text/x-python",
   "name": "python",
   "nbconvert_exporter": "python",
   "pygments_lexer": "ipython3",
   "version": "3.9.6"
  },
  "interpreter": {
   "hash": "7c799274a299c915da9dc49d2429efd8732670497811da2c4238d795e35f4b1a"
  }
 },
 "nbformat": 4,
 "nbformat_minor": 4
}